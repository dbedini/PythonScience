{
  "metadata": {
    "kernelspec": {
      "name": "python",
      "display_name": "Python (Pyodide)",
      "language": "python"
    },
    "language_info": {
      "codemirror_mode": {
        "name": "python",
        "version": 3
      },
      "file_extension": ".py",
      "mimetype": "text/x-python",
      "name": "python",
      "nbconvert_exporter": "python",
      "pygments_lexer": "ipython3",
      "version": "3.8"
    }
  },
  "nbformat_minor": 4,
  "nbformat": 4,
  "cells": [
    {
      "cell_type": "code",
      "source": "import numpy as np\nimport copy\n\nX = np.array([ [1,2,3],\n               [2,3,4],\n               [3,4,5],\n               [4,5,6]])\nw = np.array([10,20,30])",
      "metadata": {
        "trusted": true
      },
      "outputs": [],
      "execution_count": 17
    },
    {
      "cell_type": "code",
      "source": "\nX.shape",
      "metadata": {
        "trusted": true
      },
      "outputs": [
        {
          "execution_count": 18,
          "output_type": "execute_result",
          "data": {
            "text/plain": "(4, 3)"
          },
          "metadata": {}
        }
      ],
      "execution_count": 18
    },
    {
      "cell_type": "code",
      "source": "# = X\nY = copy.deepcopy(X)\n\nfor i in range(X.shape[0]):\n    Y[i,:] = X[i,:] + w\nprint(X)\nprint(Y)",
      "metadata": {
        "trusted": true
      },
      "outputs": [
        {
          "name": "stdout",
          "text": "[[11 22 33]\n [12 23 34]\n [13 24 35]\n [14 25 36]]\n[[21 42 63]\n [22 43 64]\n [23 44 65]\n [24 45 66]]\n",
          "output_type": "stream"
        }
      ],
      "execution_count": 20
    },
    {
      "cell_type": "code",
      "source": "Y = X + w\nprint(Y)",
      "metadata": {
        "trusted": true
      },
      "outputs": [
        {
          "name": "stdout",
          "text": "[[21 42 63]\n [22 43 64]\n [23 44 65]\n [24 45 66]]\n",
          "output_type": "stream"
        }
      ],
      "execution_count": 22
    },
    {
      "cell_type": "code",
      "source": "w = np.array([1,2,3,4], ndmin=2).T\nZ = Y*w\nprint(Z)",
      "metadata": {
        "trusted": true
      },
      "outputs": [
        {
          "name": "stdout",
          "text": "[[ 21  42  63]\n [ 44  86 128]\n [ 69 132 195]\n [ 96 180 264]]\n",
          "output_type": "stream"
        }
      ],
      "execution_count": 26
    },
    {
      "cell_type": "code",
      "source": "v = np.arange(0,9)\nprint(v)\nM = np.reshape(v, (3,3))\nprint(M)\nC = np.tile(M, (3,1))\nprint(C)\nB = C*np.reshape(v, (len(v), 1))\nprint(B)",
      "metadata": {
        "trusted": true
      },
      "outputs": [
        {
          "name": "stdout",
          "text": "[0 1 2 3 4 5 6 7 8]\n[[0 1 2]\n [3 4 5]\n [6 7 8]]\n[[0 1 2]\n [3 4 5]\n [6 7 8]\n [0 1 2]\n [3 4 5]\n [6 7 8]\n [0 1 2]\n [3 4 5]\n [6 7 8]]\n[[ 0  0  0]\n [ 3  4  5]\n [12 14 16]\n [ 0  3  6]\n [12 16 20]\n [30 35 40]\n [ 0  6 12]\n [21 28 35]\n [48 56 64]]\n",
          "output_type": "stream"
        }
      ],
      "execution_count": 29
    },
    {
      "cell_type": "code",
      "source": "",
      "metadata": {
        "trusted": true
      },
      "outputs": [],
      "execution_count": null
    }
  ]
}